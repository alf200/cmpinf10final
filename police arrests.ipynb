{
 "cells": [
  {
   "cell_type": "markdown",
   "metadata": {},
   "source": [
    "# This notebook will contain the data analysis for the Pittsburgh Police Arrests Dataset.\n",
    "\n",
    "# This dataset is updated daily, and was created August 23, 2016."
   ]
  },
  {
   "cell_type": "code",
   "execution_count": 14,
   "metadata": {},
   "outputs": [],
   "source": [
    "import pandas as pd\n",
    "\n",
    "import matplotlib.pyplot as plt\n",
    "\n",
    "pd.set_option('display.max_rows', None)"
   ]
  },
  {
   "cell_type": "code",
   "execution_count": 15,
   "metadata": {},
   "outputs": [
    {
     "data": {
      "text/plain": [
       "array(['Bloomfield', 'Outside City', 'Westwood', 'East Allegheny',\n",
       "       'Crafton Heights', 'Greenfield', 'Brookline', 'Regent Square',\n",
       "       'East Liberty', nan, 'East Hills', 'Carrick', 'Allegheny Center',\n",
       "       'South Side Flats', 'Sheraden', 'East Carnegie',\n",
       "       'Golden Triangle/Civic Arena', 'Point Breeze North', 'Perry South',\n",
       "       'Allentown', 'North Shore', 'Marshall-Shadeland',\n",
       "       'Central Oakland', 'Middle Hill', 'Strip District',\n",
       "       'Lincoln-Lemington-Belmar', 'Central Northside',\n",
       "       'Troy Hill-Herrs Island', 'Highland Park', 'Homewood North',\n",
       "       'Northview Heights', 'Brighton Heights', 'Hazelwood',\n",
       "       'Perry North', 'Bedford Dwellings', 'Elliott', 'Beechview',\n",
       "       'Fineview', 'Glen Hazel', 'Spring Hill-City View', 'Bluff',\n",
       "       'Manchester', 'Homewood West', 'Outside County', 'Point Breeze',\n",
       "       'Homewood South', 'Squirrel Hill South', 'Terrace Village',\n",
       "       'Upper Lawrenceville', 'Arlington', 'South Side Slopes',\n",
       "       'Lower Lawrenceville', 'Garfield', 'Lincoln Place', 'Larimer',\n",
       "       'Mount Washington', 'California-Kirkbride', 'Banksville',\n",
       "       'Bon Air', 'South Shore', 'Beltzhoover', 'Knoxville', 'Chateau',\n",
       "       'Crawford-Roberts', 'Polish Hill', 'Fairywood', 'West End',\n",
       "       'Shadyside', 'Morningside', 'Overbrook', 'Friendship',\n",
       "       'North Oakland', 'Central Lawrenceville', 'Oakwood', 'Upper Hill',\n",
       "       'South Oakland', 'West Oakland', 'Spring Garden', 'Allegheny West',\n",
       "       'St. Clair', 'Stanton Heights', 'Esplen', 'Squirrel Hill North',\n",
       "       'Mt. Oliver Neighborhood', 'Summer Hill', 'Arlington Heights',\n",
       "       'Troy Hill', 'Central Business District', 'Central North Side',\n",
       "       'Mount Oliver', 'Windgap', 'Outside State', 'Duquesne Heights',\n",
       "       'New Homestead', 'Ridgemont', 'Swisshelm Park', 'Hays',\n",
       "       'Chartiers City', 'Mt. Oliver Boro'], dtype=object)"
      ]
     },
     "execution_count": 15,
     "metadata": {},
     "output_type": "execute_result"
    }
   ],
   "source": [
    "##import dataset\n",
    "arrest = pd.read_csv(\"pittsburgh police arrest data.csv\")\n",
    "\n",
    "##print all the unique neighborhoods (lots to choose from)\n",
    "arrest[\"INCIDENTNEIGHBORHOOD\"].unique()"
   ]
  },
  {
   "cell_type": "code",
   "execution_count": 16,
   "metadata": {},
   "outputs": [
    {
     "data": {
      "text/plain": [
       "99"
      ]
     },
     "execution_count": 16,
     "metadata": {},
     "output_type": "execute_result"
    }
   ],
   "source": [
    "len(arrest['INCIDENTNEIGHBORHOOD'].unique())"
   ]
  },
  {
   "cell_type": "markdown",
   "metadata": {},
   "source": [
    "According to this dataset, there are 98 different neighborhoods within the city of Pittsburgh."
   ]
  },
  {
   "cell_type": "code",
   "execution_count": 22,
   "metadata": {},
   "outputs": [
    {
     "data": {
      "text/plain": [
       "Mt. Oliver Neighborhood           2\n",
       "Troy Hill-Herrs Island            6\n",
       "Mt. Oliver Boro                  16\n",
       "Regent Square                    22\n",
       "Central Northside                23\n",
       "Ridgemont                        24\n",
       "New Homestead                    26\n",
       "Swisshelm Park                   27\n",
       "Chartiers City                   28\n",
       "St. Clair                        35\n",
       "East Carnegie                    36\n",
       "Outside County                   41\n",
       "Outside State                    45\n",
       "Oakwood                          54\n",
       "Summer Hill                      58\n",
       "Fairywood                        74\n",
       "Hays                             75\n",
       "Windgap                          76\n",
       "Golden Triangle/Civic Arena      83\n",
       "Allegheny West                   85\n",
       "Glen Hazel                       90\n",
       "Mount Oliver                     96\n",
       "Arlington Heights               109\n",
       "Polish Hill                     114\n",
       "Esplen                          121\n",
       "Friendship                      122\n",
       "Duquesne Heights                128\n",
       "Lincoln Place                   129\n",
       "Upper Lawrenceville             135\n",
       "Morningside                     137\n",
       "Westwood                        150\n",
       "Bon Air                         157\n",
       "Stanton Heights                 160\n",
       "Spring Garden                   176\n",
       "Point Breeze North              177\n",
       "Terrace Village                 179\n",
       "Lower Lawrenceville             181\n",
       "Banksville                      184\n",
       "Squirrel Hill North             185\n",
       "West End                        190\n",
       "South Shore                     196\n",
       "California-Kirkbride            197\n",
       "Overbrook                       197\n",
       "Arlington                       199\n",
       "Outside City                    208\n",
       "West Oakland                    215\n",
       "South Oakland                   220\n",
       "Point Breeze                    238\n",
       "Upper Hill                      257\n",
       "North Oakland                   272\n",
       "Troy Hill                       297\n",
       "Chateau                         313\n",
       "Central Lawrenceville           319\n",
       "Strip District                  336\n",
       "Greenfield                      341\n",
       "Manchester                      349\n",
       "Central Oakland                 367\n",
       "Crafton Heights                 368\n",
       "Beltzhoover                     369\n",
       "Highland Park                   380\n",
       "Elliott                         431\n",
       "Bedford Dwellings               438\n",
       "Perry North                     474\n",
       "Northview Heights               492\n",
       "Garfield                        500\n",
       "Spring Hill-City View           506\n",
       "North Shore                     539\n",
       "Homewood West                   543\n",
       "Larimer                         553\n",
       "Squirrel Hill South             554\n",
       "South Side Slopes               560\n",
       "Crawford-Roberts                573\n",
       "Central North Side              621\n",
       "Fineview                        622\n",
       "Allentown                       659\n",
       "Middle Hill                     669\n",
       "Bloomfield                      679\n",
       "Shadyside                       687\n",
       "East Hills                      732\n",
       "Brighton Heights                756\n",
       "Perry South                     758\n",
       "Allegheny Center                830\n",
       "Sheraden                        830\n",
       "Beechview                       843\n",
       "Lincoln-Lemington-Belmar        864\n",
       "Brookline                       865\n",
       "Hazelwood                       874\n",
       "Knoxville                       922\n",
       "Mount Washington                973\n",
       "Bluff                           994\n",
       "Marshall-Shadeland             1039\n",
       "East Liberty                   1215\n",
       "Homewood North                 1306\n",
       "Homewood South                 1447\n",
       "East Allegheny                 1513\n",
       "Carrick                        1619\n",
       "South Side Flats               2311\n",
       "Central Business District      2724\n",
       "Name: INCIDENTNEIGHBORHOOD, dtype: int64"
      ]
     },
     "execution_count": 22,
     "metadata": {},
     "output_type": "execute_result"
    }
   ],
   "source": [
    "##number of arrest entries per neighborhood\n",
    "\n",
    "arrest[\"INCIDENTNEIGHBORHOOD\"].value_counts().sort_values(ascending=True)"
   ]
  },
  {
   "cell_type": "markdown",
   "metadata": {},
   "source": [
    "From this sample, we'll make a bar chart for a coup"
   ]
  },
  {
   "cell_type": "code",
   "execution_count": 20,
   "metadata": {},
   "outputs": [
    {
     "data": {
      "image/png": "[encoded data removed]",
      "text/plain": [
       "<Figure size 432x288 with 1 Axes>"
      ]
     },
     "metadata": {
      "needs_background": "light"
     },
     "output_type": "display_data"
    }
   ],
   "source": [
    "## create bar chart of selected neighborhood arrest data\n",
    "data = [22, 114, 554, 973, 2724]\n",
    "plt.bar([\"RS\",\"PH\",\"SHS\",\"MW\",\"CBD\"], data)\n",
    "plt.show()"
   ]
  },
  {
   "cell_type": "markdown",
   "metadata": {},
   "source": [
    "In this chart, **\"RS\"** stands for Regent Square, **\"PH\"** stands for Polish Hill, **\"SHS\"** stands for Squirrel Hill South, **\"MW\"** stands for Mount Washington, and **\"CBD\"** stands for Central Business District (Downtown)."
   ]
  },
  {
   "cell_type": "markdown",
   "metadata": {},
   "source": [
    "# Conclusion"
   ]
  },
  {
   "cell_type": "markdown",
   "metadata": {},
   "source": [
    "In order to be in contention for \"best\" neighborhood, I'm setting the cutoff at 500 arrests or fewer. This is a very large dataset (44,581 entries) compared to the other datasets I am using as metrics (the Parking Meter dataset contains 955 entries, and the playground dataset has only 124 entries). As you can see, the range of this set of data is huge. You can barely even see Regent Square on the graph because the difference between it and the Central Business District is massive. Downtown has **123.8x** the amount of arrests, so you might want to live in Garfield or Central Lawrenceville instead."
   ]
  },
  {
   "cell_type": "code",
   "execution_count": null,
   "metadata": {},
   "outputs": [],
   "source": []
  }
 ],
 "metadata": {
  "kernelspec": {
   "display_name": "Python 3",
   "language": "python",
   "name": "python3"
  },
  "language_info": {
   "codemirror_mode": {
    "name": "ipython",
    "version": 3
   },
   "file_extension": ".py",
   "mimetype": "text/x-python",
   "name": "python",
   "nbconvert_exporter": "python",
   "pygments_lexer": "ipython3",
   "version": "3.8.3"
  }
 },
 "nbformat": 4,
 "nbformat_minor": 4
}
