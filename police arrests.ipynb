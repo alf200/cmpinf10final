{
 "cells": [
  {
   "cell_type": "markdown",
   "metadata": {},
   "source": [
    "# This notebook will contain the data analysis for the Pittsburgh Police Arrests Dataset.\n",
    "\n",
    "# This dataset is updated daily."
   ]
  },
  {
   "cell_type": "code",
   "execution_count": 28,
   "metadata": {},
   "outputs": [],
   "source": [
    "import pandas as pd\n",
    "\n",
    "import matplotlib.pyplot as plt"
   ]
  },
  {
   "cell_type": "code",
   "execution_count": 29,
   "metadata": {},
   "outputs": [
    {
     "data": {
      "text/plain": [
       "array(['Bloomfield', 'Outside City', 'Westwood', 'East Allegheny',\n",
       "       'Crafton Heights', 'Greenfield', 'Brookline', 'Regent Square',\n",
       "       'East Liberty', nan, 'East Hills', 'Carrick', 'Allegheny Center',\n",
       "       'South Side Flats', 'Sheraden', 'East Carnegie',\n",
       "       'Golden Triangle/Civic Arena', 'Point Breeze North', 'Perry South',\n",
       "       'Allentown', 'North Shore', 'Marshall-Shadeland',\n",
       "       'Central Oakland', 'Middle Hill', 'Strip District',\n",
       "       'Lincoln-Lemington-Belmar', 'Central Northside',\n",
       "       'Troy Hill-Herrs Island', 'Highland Park', 'Homewood North',\n",
       "       'Northview Heights', 'Brighton Heights', 'Hazelwood',\n",
       "       'Perry North', 'Bedford Dwellings', 'Elliott', 'Beechview',\n",
       "       'Fineview', 'Glen Hazel', 'Spring Hill-City View', 'Bluff',\n",
       "       'Manchester', 'Homewood West', 'Outside County', 'Point Breeze',\n",
       "       'Homewood South', 'Squirrel Hill South', 'Terrace Village',\n",
       "       'Upper Lawrenceville', 'Arlington', 'South Side Slopes',\n",
       "       'Lower Lawrenceville', 'Garfield', 'Lincoln Place', 'Larimer',\n",
       "       'Mount Washington', 'California-Kirkbride', 'Banksville',\n",
       "       'Bon Air', 'South Shore', 'Beltzhoover', 'Knoxville', 'Chateau',\n",
       "       'Crawford-Roberts', 'Polish Hill', 'Fairywood', 'West End',\n",
       "       'Shadyside', 'Morningside', 'Overbrook', 'Friendship',\n",
       "       'North Oakland', 'Central Lawrenceville', 'Oakwood', 'Upper Hill',\n",
       "       'South Oakland', 'West Oakland', 'Spring Garden', 'Allegheny West',\n",
       "       'St. Clair', 'Stanton Heights', 'Esplen', 'Squirrel Hill North',\n",
       "       'Mt. Oliver Neighborhood', 'Summer Hill', 'Arlington Heights',\n",
       "       'Troy Hill', 'Central Business District', 'Central North Side',\n",
       "       'Mount Oliver', 'Windgap', 'Outside State', 'Duquesne Heights',\n",
       "       'New Homestead', 'Ridgemont', 'Swisshelm Park', 'Hays',\n",
       "       'Chartiers City', 'Mt. Oliver Boro'], dtype=object)"
      ]
     },
     "execution_count": 29,
     "metadata": {},
     "output_type": "execute_result"
    }
   ],
   "source": [
    "##import dataset\n",
    "arrest = pd.read_csv(\"pittsburgh police arrest data.csv\")\n",
    "\n",
    "##print all the unique neighborhoods (lots to choose from)\n",
    "arrest[\"INCIDENTNEIGHBORHOOD\"].unique()"
   ]
  },
  {
   "cell_type": "code",
   "execution_count": 30,
   "metadata": {},
   "outputs": [
    {
     "data": {
      "text/plain": [
       "99"
      ]
     },
     "execution_count": 30,
     "metadata": {},
     "output_type": "execute_result"
    }
   ],
   "source": [
    "len(arrest['INCIDENTNEIGHBORHOOD'].unique())"
   ]
  },
  {
   "cell_type": "markdown",
   "metadata": {},
   "source": [
    "According to this dataset, there are 99 different neighborhoods within the city of Pittsburgh."
   ]
  },
  {
   "cell_type": "code",
   "execution_count": 33,
   "metadata": {},
   "outputs": [
    {
     "data": {
      "text/plain": [
       "Mt. Oliver Neighborhood         2\n",
       "Troy Hill-Herrs Island          6\n",
       "Mt. Oliver Boro                16\n",
       "Regent Square                  22\n",
       "Central Northside              23\n",
       "                             ... \n",
       "Homewood South               1447\n",
       "East Allegheny               1513\n",
       "Carrick                      1619\n",
       "South Side Flats             2311\n",
       "Central Business District    2724\n",
       "Name: INCIDENTNEIGHBORHOOD, Length: 98, dtype: int64"
      ]
     },
     "execution_count": 33,
     "metadata": {},
     "output_type": "execute_result"
    }
   ],
   "source": [
    "##number of arrest entries per neighborhood\n",
    "\n",
    "arrest[\"INCIDENTNEIGHBORHOOD\"].value_counts().sort_values(ascending=True)"
   ]
  },
  {
   "cell_type": "markdown",
   "metadata": {},
   "source": [
    "From this sample, we'll make a bar chart for a couple different neighborhoods"
   ]
  },
  {
   "cell_type": "code",
   "execution_count": 40,
   "metadata": {},
   "outputs": [
    {
     "data": {
      "image/png": "[encoded data removed]",
      "text/plain": [
       "<Figure size 432x288 with 1 Axes>"
      ]
     },
     "metadata": {
      "needs_background": "light"
     },
     "output_type": "display_data"
    }
   ],
   "source": [
    "data = [2, 22, 1447, 1619, 2724]\n",
    "plt.bar([\"MON\",\"RS\",\"HS\",\"C\",\"CBD\"], data)\n",
    "plt.show()"
   ]
  },
  {
   "cell_type": "markdown",
   "metadata": {},
   "source": [
    "In this chart, **\"MON\"** stands for Mount Oliver Neighborhood, **\"RS\"** stands for Regent Square, **\"HS\"** stands for Homewood South, **\"C\"** stands for Carrick, and **\"CBD\"** stands for Central Business District (Downtown)."
   ]
  },
  {
   "cell_type": "markdown",
   "metadata": {},
   "source": [
    "As you can see, the range of this set of data is huge. You can't even see Mount Oliver Neighborhood on the graph because the difference between it and the Central Business District is massive. Downtown has **1,362x** the amount of arrests. Things are looking good for the bottom five neighborhoods in this dataset."
   ]
  },
  {
   "cell_type": "code",
   "execution_count": null,
   "metadata": {},
   "outputs": [],
   "source": []
  }
 ],
 "metadata": {
  "kernelspec": {
   "display_name": "Python 3",
   "language": "python",
   "name": "python3"
  },
  "language_info": {
   "codemirror_mode": {
    "name": "ipython",
    "version": 3
   },
   "file_extension": ".py",
   "mimetype": "text/x-python",
   "name": "python",
   "nbconvert_exporter": "python",
   "pygments_lexer": "ipython3",
   "version": "3.8.3"
  }
 },
 "nbformat": 4,
 "nbformat_minor": 4
}
