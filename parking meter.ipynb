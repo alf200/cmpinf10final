{
 "cells": [
  {
   "cell_type": "markdown",
   "metadata": {},
   "source": [
    "# This notebook will contain the data analysis for the Parking Meters Pittsburgh Parking Authority Dataset.\n",
    "\n",
    "# This dataset was last updated April 17, 2019, which is also the date of its creation."
   ]
  },
  {
   "cell_type": "code",
   "execution_count": 2,
   "metadata": {},
   "outputs": [],
   "source": [
    "import pandas as pd\n",
    "\n",
    "import matplotlib.pyplot as plt"
   ]
  },
  {
   "cell_type": "code",
   "execution_count": 4,
   "metadata": {},
   "outputs": [
    {
     "data": {
      "text/plain": [
       "array(['East Liberty', 'Squirell Hill', 'ShadySide', 'Oakland',\n",
       "       'Bloomfield', 'Lawrenceville', 'South Side', 'Carrick',\n",
       "       'Allentown', 'Mt. Washingt*', 'Brookline', 'Beechview', 'West End',\n",
       "       'NorthSide', 'Downtown', 'Uptown', 'Strip Distri*', 'North Shore',\n",
       "       ' '], dtype=object)"
      ]
     },
     "execution_count": 4,
     "metadata": {},
     "output_type": "execute_result"
    }
   ],
   "source": [
    "meters = pd.read_csv(\"parking meters.csv\")\n",
    "\n",
    "meters[\"node\"].unique()"
   ]
  },
  {
   "cell_type": "code",
   "execution_count": 6,
   "metadata": {},
   "outputs": [
    {
     "data": {
      "text/plain": [
       "19"
      ]
     },
     "execution_count": 6,
     "metadata": {},
     "output_type": "execute_result"
    }
   ],
   "source": [
    "len(meters['node'].unique())"
   ]
  },
  {
   "cell_type": "markdown",
   "metadata": {},
   "source": [
    "According to this dataset, there are 18 boroughs under the authority of the Pittsburgh Parking Authority. Since the police arrests dataset is more specific, some neighborhoods will have to be lumped together unless one subdivision has more than 500 arrests (i.e. Squirrel Hill North/South)."
   ]
  },
  {
   "cell_type": "code",
   "execution_count": 11,
   "metadata": {},
   "outputs": [
    {
     "data": {
      "text/plain": [
       "Oakland          216\n",
       "South Side       109\n",
       "Downtown         104\n",
       "NorthSide         84\n",
       "Squirell Hill     69\n",
       "ShadySide         66\n",
       "Bloomfield        61\n",
       "Uptown            60\n",
       "East Liberty      59\n",
       "Strip Distri*     50\n",
       "North Shore       24\n",
       "Brookline         22\n",
       "Lawrenceville     15\n",
       "Mt. Washingt*     10\n",
       "Carrick            2\n",
       "West End           1\n",
       "Beechview          1\n",
       "Allentown          1\n",
       "                   1\n",
       "Name: node, dtype: int64"
      ]
     },
     "execution_count": 11,
     "metadata": {},
     "output_type": "execute_result"
    }
   ],
   "source": [
    "meters[\"node\"].value_counts()"
   ]
  },
  {
   "cell_type": "code",
   "execution_count": 10,
   "metadata": {},
   "outputs": [
    {
     "data": {
      "image/png": "[encoded data removed]",
      "text/plain": [
       "<Figure size 432x288 with 1 Axes>"
      ]
     },
     "metadata": {
      "needs_background": "light"
     },
     "output_type": "display_data"
    }
   ],
   "source": [
    "## create bar chart of selected parking meter data\n",
    "data = [1, 24, 69, 84, 109]\n",
    "plt.bar([\"BV\",\"NShore\",\"SH\",\"NSide\",\"SS\"], data)\n",
    "plt.show()"
   ]
  },
  {
   "cell_type": "markdown",
   "metadata": {},
   "source": [
    "In this chart, **\"BV\"** stands for Beechview, **NShore** is short for North Shore, **\"SH\"** stands for Squirrel Hill, **\"NSide\"** is short for North Side, and **\"SS\"** stands for Southside."
   ]
  },
  {
   "cell_type": "markdown",
   "metadata": {},
   "source": [
    "# Conclusion"
   ]
  },
  {
   "cell_type": "markdown",
   "metadata": {},
   "source": [
    "This dataset kind of puts some limits on who can be a contender for the \"best\" neighborhood, as not every neighborhood has parking meters. This dataset lumps together neighborhoods, unlike the police arrests dataset. This is probably the case because the police have to be very specific about where arrests happen. The paring meter dataset ignores locational information about a neighborhood, for example, North Oakland, South Oakland, and West Oakland are all put together under just \"Oakland.\" The total amount of parking meters in Oakland will be divided by 4, to give every subdivision a total of 54 parking meters. Areas with less than 500 arrests but zero parking meters will still be considered."
   ]
  },
  {
   "cell_type": "code",
   "execution_count": null,
   "metadata": {},
   "outputs": [],
   "source": []
  }
 ],
 "metadata": {
  "kernelspec": {
   "display_name": "Python 3",
   "language": "python",
   "name": "python3"
  },
  "language_info": {
   "codemirror_mode": {
    "name": "ipython",
    "version": 3
   },
   "file_extension": ".py",
   "mimetype": "text/x-python",
   "name": "python",
   "nbconvert_exporter": "python",
   "pygments_lexer": "ipython3",
   "version": "3.8.3"
  }
 },
 "nbformat": 4,
 "nbformat_minor": 4
}
