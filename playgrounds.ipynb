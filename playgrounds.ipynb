{
 "cells": [
  {
   "cell_type": "markdown",
   "metadata": {},
   "source": [
    "# This notebook will contain the data analysis for the City of Pittsburgh Playgrounds Dataset.\n",
    "\n",
    "# This dataset is updated as needed, and was published May 10, 2017."
   ]
  },
  {
   "cell_type": "code",
   "execution_count": 8,
   "metadata": {},
   "outputs": [],
   "source": [
    "import pandas as pd\n",
    "\n",
    "import matplotlib.pyplot as plt\n",
    "\n",
    "pd.set_option('display.max_rows', None)"
   ]
  },
  {
   "cell_type": "code",
   "execution_count": 9,
   "metadata": {},
   "outputs": [
    {
     "data": {
      "text/plain": [
       "array(['Beechview', 'Crawford-Roberts', 'Central Northside',\n",
       "       'Bedford Dwellings', 'South Side Slopes', 'South Side Flats',\n",
       "       'Lower Lawrenceville', 'Banksville', 'Homewood North', 'Bon Air',\n",
       "       'Central Oakland', 'Brighton Heights', 'Brookline', 'Hazelwood',\n",
       "       'Squirrel Hill South', 'Spring Garden', 'Lincoln-Lemington-Belmar',\n",
       "       'Windgap', 'Troy Hill', 'Westwood', 'Perry South', 'Homewood West',\n",
       "       'Allegheny Center', 'Strip District', 'Stanton Heights',\n",
       "       'Crafton Heights', 'West Oakland', 'East Carnegie',\n",
       "       'Duquesne Heights', 'East Liberty', 'Esplen', 'Fairywood',\n",
       "       'Highland Park', 'Upper Lawrenceville', 'Fineview',\n",
       "       'Regent Square', 'Garfield', 'Greenfield', 'South Oakland',\n",
       "       'Allentown', 'Hays', 'Elliott', 'Morningside', 'Terrace Village',\n",
       "       'Larimer', 'Carrick', 'Central Lawrenceville', 'Lincoln Place',\n",
       "       'Manchester', 'Marshall-Shadeland', 'Sheraden', 'Beltzhoover',\n",
       "       'Shadyside', 'Mount Washington', 'Oakwood', 'Bloomfield',\n",
       "       'Perry North', 'Upper Hill', 'New Homestead',\n",
       "       'Spring Hill-City View', 'Swisshelm Park', 'Bluff', 'Middle Hill',\n",
       "       'West End', 'Polish Hill', 'Point Breeze North',\n",
       "       'Squirrel Hill North'], dtype=object)"
      ]
     },
     "execution_count": 9,
     "metadata": {},
     "output_type": "execute_result"
    }
   ],
   "source": [
    "##import dataset\n",
    "playground = pd.read_csv(\"playgrounds.csv\")\n",
    "\n",
    "##print all the unique neighborhoods (lots to choose from)\n",
    "playground[\"neighborhood\"].unique()"
   ]
  },
  {
   "cell_type": "code",
   "execution_count": 4,
   "metadata": {},
   "outputs": [
    {
     "data": {
      "text/plain": [
       "67"
      ]
     },
     "execution_count": 4,
     "metadata": {},
     "output_type": "execute_result"
    }
   ],
   "source": [
    "len(playground['neighborhood'].unique())"
   ]
  },
  {
   "cell_type": "markdown",
   "metadata": {},
   "source": [
    "According to this dataset, there are 66 different neighborhoods that have playgrounds. This dataset is more specific than the parking meters one, but not as specific as the arrests one."
   ]
  },
  {
   "cell_type": "code",
   "execution_count": 11,
   "metadata": {},
   "outputs": [
    {
     "data": {
      "text/plain": [
       "Squirrel Hill South         8\n",
       "Beechview                   5\n",
       "South Side Slopes           5\n",
       "Allegheny Center            4\n",
       "Beltzhoover                 4\n",
       "Sheraden                    4\n",
       "Highland Park               4\n",
       "Mount Washington            3\n",
       "Carrick                     3\n",
       "Crawford-Roberts            3\n",
       "South Oakland               3\n",
       "East Liberty                3\n",
       "Hazelwood                   3\n",
       "Upper Lawrenceville         3\n",
       "Elliott                     3\n",
       "Garfield                    2\n",
       "Central Northside           2\n",
       "Marshall-Shadeland          2\n",
       "Brighton Heights            2\n",
       "Greenfield                  2\n",
       "Troy Hill                   2\n",
       "Lincoln Place               2\n",
       "Bloomfield                  2\n",
       "Morningside                 2\n",
       "Lincoln-Lemington-Belmar    2\n",
       "Manchester                  2\n",
       "Brookline                   2\n",
       "Crafton Heights             2\n",
       "South Side Flats            2\n",
       "Shadyside                   1\n",
       "Windgap                     1\n",
       "Middle Hill                 1\n",
       "Spring Garden               1\n",
       "Lower Lawrenceville         1\n",
       "Bluff                       1\n",
       "Bedford Dwellings           1\n",
       "Regent Square               1\n",
       "Point Breeze North          1\n",
       "Squirrel Hill North         1\n",
       "Perry South                 1\n",
       "New Homestead               1\n",
       "Perry North                 1\n",
       "Central Oakland             1\n",
       "Homewood North              1\n",
       "Polish Hill                 1\n",
       "Duquesne Heights            1\n",
       "Central Lawrenceville       1\n",
       "Oakwood                     1\n",
       "Upper Hill                  1\n",
       "East Carnegie               1\n",
       "Terrace Village             1\n",
       "Fairywood                   1\n",
       "Allentown                   1\n",
       "West Oakland                1\n",
       "Swisshelm Park              1\n",
       "Spring Hill-City View       1\n",
       "Westwood                    1\n",
       "Esplen                      1\n",
       "West End                    1\n",
       "Hays                        1\n",
       "Larimer                     1\n",
       "Fineview                    1\n",
       "Homewood West               1\n",
       "Strip District              1\n",
       "Stanton Heights             1\n",
       "Bon Air                     1\n",
       "Banksville                  1\n",
       "Name: neighborhood, dtype: int64"
      ]
     },
     "execution_count": 11,
     "metadata": {},
     "output_type": "execute_result"
    }
   ],
   "source": [
    "playground[\"neighborhood\"].value_counts()"
   ]
  },
  {
   "cell_type": "code",
   "execution_count": 12,
   "metadata": {},
   "outputs": [
    {
     "data": {
      "image/png": "[encoded data removed]",
      "text/plain": [
       "<Figure size 432x288 with 1 Axes>"
      ]
     },
     "metadata": {
      "needs_background": "light"
     },
     "output_type": "display_data"
    }
   ],
   "source": [
    "## create bar chart of selected playground data\n",
    "data = [1, 2, 3, 5]\n",
    "plt.bar([\"BA\",\"M\",\"UL\",\"BV\"], data)\n",
    "plt.show()"
   ]
  },
  {
   "cell_type": "markdown",
   "metadata": {},
   "source": [
    "In this chart, **\"BV\"** stands for Beechview, **\"UL\"** stands for Upper Lawrenceville, **\"M\"** stands for Manchester, and **\"BA\"** stands for Bon Air."
   ]
  },
  {
   "cell_type": "markdown",
   "metadata": {},
   "source": [
    "# Conclusion"
   ]
  },
  {
   "cell_type": "markdown",
   "metadata": {},
   "source": [
    "There are surprisingly few playgrounds in the city. Not even all of the neighborhoods have playgrounds, and if they do, it's typically only one playground. A decrease in the amount of arrests does not necessarily correlate to more playgrounds or vice versa. Elliott has 431 arrests and 3 playgrounds, but Ridgemont has 24 arrests and zero playgrounds."
   ]
  },
  {
   "cell_type": "code",
   "execution_count": null,
   "metadata": {},
   "outputs": [],
   "source": []
  }
 ],
 "metadata": {
  "kernelspec": {
   "display_name": "Python 3",
   "language": "python",
   "name": "python3"
  },
  "language_info": {
   "codemirror_mode": {
    "name": "ipython",
    "version": 3
   },
   "file_extension": ".py",
   "mimetype": "text/x-python",
   "name": "python",
   "nbconvert_exporter": "python",
   "pygments_lexer": "ipython3",
   "version": "3.8.3"
  }
 },
 "nbformat": 4,
 "nbformat_minor": 4
}
